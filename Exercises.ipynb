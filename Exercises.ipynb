{
 "cells": [
  {
   "cell_type": "markdown",
   "id": "1a1994b1",
   "metadata": {},
   "source": [
    "## Ex 2 - Maximum Index\n",
    "Given an array A[] of N positive integers. The task is to find the maximum of j - i subjected to the constraint of A[i] < A[j] and i < j."
   ]
  },
  {
   "cell_type": "code",
   "execution_count": 8,
   "id": "013dfcca",
   "metadata": {},
   "outputs": [
    {
     "data": {
      "text/plain": [
       "6"
      ]
     },
     "execution_count": 8,
     "metadata": {},
     "output_type": "execute_result"
    }
   ],
   "source": [
    "def maxIndexDiff(A, N): \n",
    "    maxid = 0\n",
    "    for i in range(N):\n",
    "        for j in range(i, N):\n",
    "            if A[i]<=A[j]:\n",
    "                maxid = max(maxid, j-i)\n",
    "                if N-i<maxid:\n",
    "                    return maxid\n",
    "                \n",
    "maxIndexDiff([34, 8, 10, 3, 2, 80, 30, 33, 1], 9)"
   ]
  },
  {
   "cell_type": "markdown",
   "id": "32f09622",
   "metadata": {},
   "source": [
    "## Ex 3 - Non repeating numbers\n",
    "Given an array A containing 2*N+2 positive numbers, out of which 2*N numbers exist in pairs whereas the other two number occur exactly once and are distinct. Find the other two numbers.\n",
    "\n",
    "\n",
    "Example 1:\n",
    "\n",
    "Input: \n",
    "N = 2\n",
    "arr[] = {1, 2, 3, 2, 1, 4}\n",
    "Output:\n",
    "3 4 \n",
    "Explanation:\n",
    "3 and 4 occur exactly once.\n"
   ]
  },
  {
   "cell_type": "code",
   "execution_count": 10,
   "id": "ac10b566",
   "metadata": {},
   "outputs": [
    {
     "data": {
      "text/plain": [
       "[3, 4]"
      ]
     },
     "execution_count": 10,
     "metadata": {},
     "output_type": "execute_result"
    }
   ],
   "source": [
    "#V1\n",
    "import numpy as np\n",
    "\n",
    "N = 2\n",
    "A = np.array([1, 2, 3, 2, 1, 4])\n",
    "\n",
    "def singleNumber(arr):\n",
    "    singleOut = []\n",
    "    for i in np.unique(arr):\n",
    "        if np.count_nonzero(arr == i) == 1:\n",
    "            singleOut.append(i)\n",
    "    return singleOut  \n",
    "\n",
    "singleNumber(A)"
   ]
  },
  {
   "cell_type": "markdown",
   "id": "2532f0c6",
   "metadata": {},
   "source": [
    "# Generate and plot a sine wave"
   ]
  },
  {
   "cell_type": "code",
   "execution_count": 12,
   "id": "da5be22b",
   "metadata": {},
   "outputs": [
    {
     "data": {
      "text/plain": [
       "[<matplotlib.lines.Line2D at 0x2299e983580>]"
      ]
     },
     "execution_count": 12,
     "metadata": {},
     "output_type": "execute_result"
    },
    {
     "data": {
      "image/png": "[encoded data removed]",
      "text/plain": [
       "<Figure size 432x288 with 1 Axes>"
      ]
     },
     "metadata": {
      "needs_background": "light"
     },
     "output_type": "display_data"
    }
   ],
   "source": [
    "import matplotlib.pyplot as plt\n",
    "import numpy as np\n",
    "%matplotlib inline\n",
    "\n",
    "Fs = 48000 #Hz\n",
    "f = 10 #Hz\n",
    "t = 1/f+1/Fs #s\n",
    "\n",
    "time = np.arange(0,t,1/Fs)\n",
    "x = np.sin(2*np.pi*f*time)\n",
    "\n",
    "plt.plot(time,x)"
   ]
  },
  {
   "cell_type": "code",
   "execution_count": null,
   "id": "9a8048ce",
   "metadata": {},
   "outputs": [],
   "source": []
  },
  {
   "cell_type": "code",
   "execution_count": null,
   "id": "06c589aa",
   "metadata": {},
   "outputs": [],
   "source": []
  }
 ],
 "metadata": {
  "kernelspec": {
   "display_name": "Python 3.9.12 ('statisteks')",
   "language": "python",
   "name": "python3"
  },
  "language_info": {
   "codemirror_mode": {
    "name": "ipython",
    "version": 3
   },
   "file_extension": ".py",
   "mimetype": "text/x-python",
   "name": "python",
   "nbconvert_exporter": "python",
   "pygments_lexer": "ipython3",
   "version": "3.9.12"
  },
  "vscode": {
   "interpreter": {
    "hash": "2e7308ce93952485e8142d9f7849b5361a5111454491eed2a90462c45740f1fb"
   }
  }
 },
 "nbformat": 4,
 "nbformat_minor": 5
}
